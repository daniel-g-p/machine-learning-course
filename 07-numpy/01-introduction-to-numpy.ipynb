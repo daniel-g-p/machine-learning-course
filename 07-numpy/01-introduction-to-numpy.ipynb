{
 "cells": [
  {
   "attachments": {},
   "cell_type": "markdown",
   "metadata": {},
   "source": [
    "# Introduction to NumPy\n"
   ]
  },
  {
   "attachments": {},
   "cell_type": "markdown",
   "metadata": {},
   "source": [
    "## Package Import\n"
   ]
  },
  {
   "cell_type": "code",
   "execution_count": null,
   "metadata": {},
   "outputs": [],
   "source": [
    "import numpy as np\n",
    "import pandas as pd\n",
    "import matplotlib.pyplot as plt\n",
    "from matplotlib.image import imread"
   ]
  },
  {
   "attachments": {},
   "cell_type": "markdown",
   "metadata": {},
   "source": [
    "## NumPy Arrays\n"
   ]
  },
  {
   "cell_type": "code",
   "execution_count": null,
   "metadata": {},
   "outputs": [],
   "source": [
    "numpy_array_1d = np.array([1, 2, 3])\n",
    "numpy_array_2d = np.array([[1, 2, 3], [4, 5, 6]])\n",
    "numpy_array_3d = np.array([[[1, 2, 3], [4, 5, 6]], [[7, 8, 9], [10, 11, 12]]])\n",
    "\n",
    "print(numpy_array_1d)\n",
    "print(numpy_array_2d)\n",
    "print(numpy_array_3d)\n"
   ]
  },
  {
   "attachments": {},
   "cell_type": "markdown",
   "metadata": {},
   "source": [
    "## NumPy Array Attributes\n"
   ]
  },
  {
   "cell_type": "code",
   "execution_count": null,
   "metadata": {},
   "outputs": [],
   "source": [
    "print(numpy_array_1d.shape)\n",
    "print(numpy_array_2d.shape)\n",
    "print(numpy_array_3d.shape)\n",
    "\n",
    "print(numpy_array_1d.size)\n",
    "print(numpy_array_2d.size)\n",
    "print(numpy_array_3d.size)\n",
    "\n",
    "print(type(numpy_array_1d))\n",
    "print(type(numpy_array_2d))\n",
    "print(type(numpy_array_3d))\n"
   ]
  },
  {
   "attachments": {},
   "cell_type": "markdown",
   "metadata": {},
   "source": [
    "## DataFrame from NumPy Array\n"
   ]
  },
  {
   "cell_type": "code",
   "execution_count": null,
   "metadata": {},
   "outputs": [],
   "source": [
    "df = pd.DataFrame(numpy_array_2d, columns=[\"Column A\", \"Column B\", \"Column C\"])\n",
    "\n",
    "print(df)\n"
   ]
  },
  {
   "attachments": {},
   "cell_type": "markdown",
   "metadata": {},
   "source": [
    "## Placeholder NumPy Arrays\n"
   ]
  },
  {
   "cell_type": "code",
   "execution_count": null,
   "metadata": {},
   "outputs": [],
   "source": [
    "numpy_array_ones = np.ones((3, 4))\n",
    "numpy_array_zeros = np.zeros((3, 4))\n",
    "numpy_array_range = np.arange(0, 20, 2)\n",
    "\n",
    "print(numpy_array_ones)\n",
    "print(numpy_array_zeros)\n",
    "print(numpy_array_range)\n"
   ]
  },
  {
   "attachments": {},
   "cell_type": "markdown",
   "metadata": {},
   "source": [
    "## NumPy Random\n"
   ]
  },
  {
   "cell_type": "code",
   "execution_count": null,
   "metadata": {},
   "outputs": [],
   "source": [
    "np.random.seed(24)\n",
    "\n",
    "numpy_array_random_int = np.random.randint(1, 11, size=(3, 5))\n",
    "numpy_array_random_float = np.random.random(size=(3, 5))\n",
    "\n",
    "print(numpy_array_random_int)\n",
    "print(numpy_array_random_float)\n"
   ]
  },
  {
   "attachments": {},
   "cell_type": "markdown",
   "metadata": {},
   "source": [
    "## Read NumPy Arrays\n"
   ]
  },
  {
   "cell_type": "code",
   "execution_count": null,
   "metadata": {},
   "outputs": [],
   "source": [
    "numpy_array_random_int_unique_values = np.unique(numpy_array_random_int)\n",
    "numpy_array_4d = np.random.randint(0, 10, size=(2, 3, 4, 5))\n",
    "\n",
    "print(numpy_array_random_int_unique_values)\n",
    "print(numpy_array_4d)\n",
    "print(numpy_array_4d[:1, :2, :3, :4])\n"
   ]
  },
  {
   "attachments": {},
   "cell_type": "markdown",
   "metadata": {},
   "source": [
    "## Arithmetics with NumPy Arrays\n"
   ]
  },
  {
   "cell_type": "code",
   "execution_count": null,
   "metadata": {},
   "outputs": [],
   "source": [
    "array_one_one_one = np.ones(3)\n",
    "array_one_two_three = np.array([1, 2, 3])\n",
    "\n",
    "print(array_one_one_one + array_one_two_three)\n",
    "print(array_one_one_one - array_one_two_three)\n",
    "print(array_one_one_one * array_one_two_three)\n",
    "print(array_one_one_one / array_one_two_three)\n",
    "\n",
    "arithmetic_array_1 = np.random.randint(0, 10, size=(2, 3, 2))\n",
    "arithmetic_array_2 = np.random.randint(0, 10, size=(3, 2))\n",
    "\n",
    "print(arithmetic_array_1)\n",
    "print(arithmetic_array_2)\n",
    "print(arithmetic_array_1 + arithmetic_array_2)\n"
   ]
  },
  {
   "attachments": {},
   "cell_type": "markdown",
   "metadata": {},
   "source": [
    "## Aggregation\n"
   ]
  },
  {
   "cell_type": "code",
   "execution_count": null,
   "metadata": {},
   "outputs": [],
   "source": [
    "massive_array = np.random.random(100000)\n",
    "\n",
    "massive_array_sum = np.sum(massive_array)\n",
    "massive_array_mean = np.mean(massive_array)\n",
    "massive_array_stddev = np.std(massive_array)\n",
    "massive_array_variance = np.var(massive_array)\n",
    "\n",
    "print(massive_array_sum)\n",
    "print(massive_array_mean)\n",
    "print(massive_array_stddev)\n",
    "print(massive_array_variance)\n",
    "\n",
    "plt.hist(massive_array)\n"
   ]
  },
  {
   "attachments": {},
   "cell_type": "markdown",
   "metadata": {},
   "source": [
    "## Reshaping & Transposing\n"
   ]
  },
  {
   "cell_type": "code",
   "execution_count": null,
   "metadata": {},
   "outputs": [],
   "source": [
    "array_before = np.random.randint(0, 10, size=(2, 4, 3))\n",
    "print(array_before)\n",
    "\n",
    "array_after_reshape = array_before.reshape(3, 4, 2)\n",
    "# print(array_after_reshape)\n",
    "\n",
    "array_after_transpose = array_before.T\n",
    "print(array_after_transpose)\n"
   ]
  },
  {
   "attachments": {},
   "cell_type": "markdown",
   "metadata": {},
   "source": [
    "## Dot Product\n"
   ]
  },
  {
   "cell_type": "code",
   "execution_count": null,
   "metadata": {},
   "outputs": [],
   "source": [
    "np.random.seed(0)\n",
    "matrix_1 = np.random.randint(0, 10, size=(5, 3))\n",
    "matrix_2 = np.random.randint(0, 10, size=(5, 3))\n",
    "\n",
    "print(matrix_1.T.dot(matrix_2))\n"
   ]
  },
  {
   "attachments": {},
   "cell_type": "markdown",
   "metadata": {},
   "source": [
    "## Nut Butter Exercise\n"
   ]
  },
  {
   "cell_type": "code",
   "execution_count": null,
   "metadata": {},
   "outputs": [],
   "source": [
    "np.random.seed(23)\n",
    "\n",
    "rows = [\"Mon\", \"Tue\", \"Wed\", \"Thu\", \"Fri\"]\n",
    "columns = [\"Almond\", \"Peanut\", \"Cashew\"]\n",
    "\n",
    "nut_butter_sales_data = np.random.randint(1, 5, size=(len(rows), len(columns)))\n",
    "nut_butter_prices_data = np.random.randint(1, 5, size=(len(columns)))\n",
    "\n",
    "nut_butter_sales = pd.DataFrame(nut_butter_sales_data, index=rows, columns=columns)\n",
    "nut_butter_prices = pd.DataFrame(\n",
    "    nut_butter_prices_data.reshape(1, 3), index=[\"Price\"], columns=columns\n",
    ")\n",
    "\n",
    "nut_butter_sales[\"Total (Units)\"] = nut_butter_sales.sum(axis=1)\n",
    "nut_butter_sales[\"Total ($)\"] = nut_butter_sales_data.dot(nut_butter_prices_data)\n",
    "\n",
    "nut_butter_sales"
   ]
  },
  {
   "attachments": {},
   "cell_type": "markdown",
   "metadata": {},
   "source": [
    "## Comparison Operators\n"
   ]
  },
  {
   "cell_type": "code",
   "execution_count": null,
   "metadata": {},
   "outputs": [],
   "source": [
    "np.random.seed(81)\n",
    "\n",
    "comparison_array_1 = np.random.randint(1, 6, size=(2, 3))\n",
    "comparison_array_2 = np.random.randint(1, 6, size=(2, 3))\n",
    "\n",
    "print(comparison_array_1 == comparison_array_2)\n",
    "print(comparison_array_1 < comparison_array_2)\n",
    "print(comparison_array_1 > comparison_array_2)\n",
    "\n",
    "print(comparison_array_1)\n",
    "print(np.sort(comparison_array_1))\n"
   ]
  },
  {
   "attachments": {},
   "cell_type": "markdown",
   "metadata": {},
   "source": [
    "## Sorting\n"
   ]
  },
  {
   "cell_type": "code",
   "execution_count": null,
   "metadata": {},
   "outputs": [],
   "source": [
    "np.random.seed(60)\n",
    "\n",
    "sorting_array = np.random.randint(1, 10, size=(3, 6))\n",
    "\n",
    "print(sorting_array)\n",
    "print(np.sort(sorting_array))\n",
    "\n",
    "print(np.argmin(sorting_array, axis=0))\n",
    "print(np.argmin(sorting_array, axis=1))\n",
    "print(np.argmax(sorting_array, axis=0))\n",
    "print(np.argmax(sorting_array, axis=1))\n"
   ]
  },
  {
   "attachments": {},
   "cell_type": "markdown",
   "metadata": {},
   "source": [
    "## Reading Images as NumPy Arrays\n"
   ]
  },
  {
   "cell_type": "code",
   "execution_count": null,
   "metadata": {},
   "outputs": [],
   "source": [
    "cat_image = imread(\"./images/cat.jpg\")\n",
    "giraffe_image = imread(\"./images/giraffe.jpg\")\n",
    "panda_image = imread(\"./images/panda.jpg\")\n",
    "polar_bear_image = imread(\"./images/polar_bear.jpg\")\n",
    "tiger_image = imread(\"./images/tiger.jpg\")\n",
    "\n",
    "print(cat_image.shape)\n",
    "print(giraffe_image.shape)\n",
    "print(panda_image.shape)\n",
    "print(polar_bear_image.shape)\n",
    "print(tiger_image.shape)"
   ]
  }
 ],
 "metadata": {
  "kernelspec": {
   "display_name": "env",
   "language": "python",
   "name": "python3"
  },
  "language_info": {
   "codemirror_mode": {
    "name": "ipython",
    "version": 3
   },
   "file_extension": ".py",
   "mimetype": "text/x-python",
   "name": "python",
   "nbconvert_exporter": "python",
   "pygments_lexer": "ipython3",
   "version": "3.11.3"
  },
  "orig_nbformat": 4
 },
 "nbformat": 4,
 "nbformat_minor": 2
}
