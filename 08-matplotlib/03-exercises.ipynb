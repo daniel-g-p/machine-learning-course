{
 "cells": [
  {
   "attachments": {},
   "cell_type": "markdown",
   "metadata": {},
   "source": [
    "# Matplotlib Practice\n",
    "\n",
    "This notebook offers a set of exercises to different tasks with Matplotlib.\n",
    "\n",
    "It should be noted there may be more than one different way to answer a question or complete an exercise.\n",
    "\n",
    "Different tasks will be detailed by comments or text.\n",
    "\n",
    "For further reference and resources, it's advised to check out the [Matplotlib documentation](https://matplotlib.org/3.1.1/contents.html).\n",
    "\n",
    "If you're stuck, don't forget, you can always search for a function, for example if you want to create a plot with `plt.subplots()`, search for [`plt.subplots()`](<https://www.google.com/search?q=plt.subplots()>).\n"
   ]
  },
  {
   "cell_type": "code",
   "execution_count": null,
   "metadata": {},
   "outputs": [],
   "source": [
    "# Import the pyplot module from matplotlib as plt\n",
    "\n",
    "import numpy as np\n",
    "import matplotlib.pyplot as plt"
   ]
  },
  {
   "cell_type": "code",
   "execution_count": null,
   "metadata": {},
   "outputs": [],
   "source": [
    "# Create a simple plot using plt.plot()\n",
    "\n",
    "plt.plot()"
   ]
  },
  {
   "cell_type": "code",
   "execution_count": null,
   "metadata": {},
   "outputs": [],
   "source": [
    "# Plot a single Python list\n",
    "\n",
    "plt.plot(np.random.randn(24))"
   ]
  },
  {
   "cell_type": "code",
   "execution_count": null,
   "metadata": {},
   "outputs": [],
   "source": [
    "# Create two lists, one called X, one called y, each with 5 numbers in them\n",
    "\n",
    "x, y = np.random.randint(0, 10, 5), np.random.randint(0, 10, 5)"
   ]
  },
  {
   "cell_type": "code",
   "execution_count": null,
   "metadata": {},
   "outputs": [],
   "source": [
    "# Plot X & y (the lists you've created)\n",
    "\n",
    "fig, (ax0, ax1) = plt.subplots(nrows=2, ncols=1)\n",
    "\n",
    "ax0.plot(x)\n",
    "ax0.set(xlim=(0, 4), ylim=(0, 10))\n",
    "\n",
    "ax1.plot(y)\n",
    "ax1.set(xlim=(0, 4), ylim=(0, 10))"
   ]
  },
  {
   "cell_type": "code",
   "execution_count": null,
   "metadata": {},
   "outputs": [],
   "source": [
    "# Create a plot using plt.subplots() and then add X & y on the axes\n",
    "fig, ax = plt.subplots()\n",
    "\n",
    "ax.plot(x, y)"
   ]
  },
  {
   "cell_type": "code",
   "execution_count": null,
   "metadata": {},
   "outputs": [],
   "source": [
    "# Import and get matplotlib ready\n",
    "import matplotlib.pyplot as plt\n",
    "\n",
    "# Prepare data (create two lists of 8 numbers, X & y)\n",
    "x, y = np.random.randint(0, 10, 8), np.random.randint(0, 10, 8)\n",
    "\n",
    "# Setup figure and axes using plt.subplots()\n",
    "fig, ax = plt.subplots()\n",
    "\n",
    "# Add data (X, y) to axes\n",
    "ax.scatter(x, y)\n",
    "\n",
    "# Customize plot by adding a title, xlabel and ylabel\n",
    "ax.set(\n",
    "    title=\"Random Plot\",\n",
    "    xlabel=\"X-Axis\",\n",
    "    ylabel=\"Y-Axis\",\n",
    "    xlim=(0, 10),\n",
    "    ylim=(0, 10),\n",
    ")\n",
    "\n",
    "# Save the plot to file using fig.savefig()\n",
    "fig.savefig(\"./data/random-plot.png\")"
   ]
  },
  {
   "cell_type": "code",
   "execution_count": null,
   "metadata": {},
   "outputs": [],
   "source": [
    "# Create an array of 100 evenly spaced numbers between 0 and 100 using NumPy and save it to variable X\n",
    "x = np.linspace(0, 99, 100)"
   ]
  },
  {
   "cell_type": "code",
   "execution_count": null,
   "metadata": {},
   "outputs": [],
   "source": [
    "# Create a plot using plt.subplots() and plot X versus X^2 (X squared)\n",
    "fig, ax = plt.subplots()\n",
    "ax.plot(x, np.square(x))"
   ]
  },
  {
   "cell_type": "code",
   "execution_count": null,
   "metadata": {},
   "outputs": [],
   "source": [
    "# Create a scatter plot of X versus the exponential of X (np.exp(X))\n",
    "fig, ax = plt.subplots()\n",
    "ax.scatter(x, np.exp(x))"
   ]
  },
  {
   "cell_type": "code",
   "execution_count": null,
   "metadata": {},
   "outputs": [],
   "source": [
    "# Create a scatter plot of X versus np.sin(X)\n",
    "fig, ax = plt.subplots()\n",
    "ax.scatter(x, np.sin(x))"
   ]
  },
  {
   "cell_type": "code",
   "execution_count": null,
   "metadata": {},
   "outputs": [],
   "source": [
    "# Create a Python dictionary of 3 of your favourite foods and their prices\n",
    "foods = {\n",
    "    \"Pizza\": 7.50,\n",
    "    \"Pasta\": 5,\n",
    "    \"Burger\": 8,\n",
    "    \"Hot Dog\": 3.50,\n",
    "}"
   ]
  },
  {
   "cell_type": "code",
   "execution_count": null,
   "metadata": {},
   "outputs": [],
   "source": [
    "# Create a bar graph where the x-axis is the keys and the y-axis is the values of the dictionary\n",
    "fig, ax = plt.subplots()\n",
    "ax.bar(foods.keys(), foods.values())\n",
    "\n",
    "# Add a title, xlabel and ylabel to the plot\n",
    "ax.set(\n",
    "    title=\"Food Prices\",\n",
    "    xlabel=\"Food\",\n",
    "    ylabel=\"Price\",\n",
    ")"
   ]
  },
  {
   "cell_type": "code",
   "execution_count": null,
   "metadata": {},
   "outputs": [],
   "source": [
    "# Make the same plot as above, except this time make the bars go horizontal\n",
    "fig, ax = plt.subplots()\n",
    "ax.barh(list(foods.keys()), list(foods.values()))\n",
    "\n",
    "ax.set(\n",
    "    title=\"Food Prices\",\n",
    "    xlabel=\"Food\",\n",
    "    ylabel=\"Price\",\n",
    ")"
   ]
  },
  {
   "cell_type": "code",
   "execution_count": null,
   "metadata": {},
   "outputs": [],
   "source": [
    "# Create a random NumPy array of 1000 normally distributed numbers using NumPy and save it to X\n",
    "x = np.random.randn(1000)\n",
    "\n",
    "# Create a histogram plot of X\n",
    "fig, ax = plt.subplots()\n",
    "ax.hist(x)"
   ]
  },
  {
   "cell_type": "code",
   "execution_count": null,
   "metadata": {},
   "outputs": [],
   "source": [
    "# Create a NumPy array of 1000 random numbers and save it to X\n",
    "x = np.random.random(1000)\n",
    "\n",
    "# Create a histogram plot of X\n",
    "fig, ax = plt.subplots()\n",
    "ax.hist(x)"
   ]
  },
  {
   "cell_type": "code",
   "execution_count": null,
   "metadata": {},
   "outputs": [],
   "source": [
    "x = np.linspace(0, 99, 100)\n",
    "\n",
    "# Create an empty subplot with 2 rows and 2 columns (4 subplots total)\n",
    "fig, ((ax0, ax1), (ax2, ax3)) = plt.subplots(ncols=2, nrows=2)\n",
    "\n",
    "# Plot X versus X/2 on the top left axes\n",
    "ax0.plot(x, np.square(x))\n",
    "\n",
    "# Plot a scatter plot of 10 random numbers on each axis on the top right subplot\n",
    "ax1.scatter(np.random.randint(0, 10, 10), np.random.randint(0, 10, 10))\n",
    "\n",
    "# Plot a bar graph of the favourite food keys and values on the bottom left subplot\n",
    "ax2.bar(foods.keys(), foods.values())\n",
    "\n",
    "# Plot a histogram of 1000 random normally distributed numbers on the bottom right subplot\n",
    "ax3.hist(np.random.randn(1000))"
   ]
  },
  {
   "cell_type": "code",
   "execution_count": null,
   "metadata": {},
   "outputs": [],
   "source": [
    "# Import pandas as pd\n",
    "import pandas as pd"
   ]
  },
  {
   "cell_type": "code",
   "execution_count": null,
   "metadata": {},
   "outputs": [],
   "source": [
    "# Import the '../data/car-sales.csv' into a DataFame called car_sales\n",
    "car_sales = pd.read_csv(\"./data/car-sales.csv\")"
   ]
  },
  {
   "cell_type": "code",
   "execution_count": null,
   "metadata": {},
   "outputs": [],
   "source": [
    "car_sales[\"Odometer (KM)\"].fillna(car_sales[\"Odometer (KM)\"].mean(), inplace=True)\n",
    "car_sales[\"Odometer (KM)\"] = car_sales[\"Odometer (KM)\"].round(0).astype(int)\n",
    "\n",
    "car_sales[\"Doors\"].fillna(round(car_sales[\"Doors\"].mean()), inplace=True)\n",
    "car_sales[\"Doors\"] = car_sales[\"Doors\"].round(0).astype(int)\n",
    "\n",
    "# Remove the symbols, the final two numbers from the 'Price' column and convert it to numbers\n",
    "car_sales[\"Price\"] = car_sales[\"Price\"].replace(\"[\\$,]\", \"\", regex=True).astype(float)\n",
    "car_sales[\"Price\"].fillna(car_sales[\"Price\"].mean(), inplace=True)\n",
    "car_sales[\"Price\"] = car_sales[\"Price\"].divide(100).round(0).multiply(100).astype(int)"
   ]
  },
  {
   "cell_type": "code",
   "execution_count": null,
   "metadata": {},
   "outputs": [],
   "source": [
    "from datetime import datetime\n",
    "\n",
    "# Add a column called 'Total Sales' to car_sales which cumulatively adds the 'Price' column\n",
    "car_sales[\"Total Sales\"] = car_sales[\"Price\"].cumsum()\n",
    "\n",
    "# Add a column called 'Sale Date' which lists a series of successive dates starting from today (your today)\n",
    "car_sales[\"Date of Sale\"] = pd.date_range(\n",
    "    datetime.today().date(), periods=len(car_sales)\n",
    ")\n",
    "\n",
    "# View the car_sales DataFrame\n",
    "car_sales"
   ]
  },
  {
   "cell_type": "code",
   "execution_count": null,
   "metadata": {},
   "outputs": [],
   "source": [
    "# Use the plot() function to plot the 'Sale Date' column versus the 'Total Sales' column\n",
    "fig, ax = plt.subplots()\n",
    "ax.plot(car_sales[\"Date of Sale\"], car_sales[\"Total Sales\"])"
   ]
  },
  {
   "cell_type": "code",
   "execution_count": null,
   "metadata": {},
   "outputs": [],
   "source": [
    "# Create a scatter plot of the 'Odometer (KM)' and 'Price' column using the plot() function\n",
    "fig, ax = plt.subplots()\n",
    "ax.scatter(car_sales[\"Odometer (KM)\"], car_sales[\"Price\"])"
   ]
  },
  {
   "cell_type": "code",
   "execution_count": null,
   "metadata": {},
   "outputs": [],
   "source": [
    "# Create a NumPy array of random numbers of size (10, 4) and save it to X\n",
    "x = np.random.randint(0, 9, (10, 4))\n",
    "columns = [\"a\", \"b\", \"c\", \"d\"]\n",
    "\n",
    "# Turn the NumPy array X into a DataFrame with columns called ['a', 'b', 'c', 'd']\n",
    "df = pd.DataFrame(x, columns=columns)\n",
    "\n",
    "# Create a bar graph of the DataFrame\n",
    "fig, ax = plt.subplots()\n",
    "ax.bar(x=df.columns, height=df.sum())"
   ]
  },
  {
   "cell_type": "code",
   "execution_count": null,
   "metadata": {},
   "outputs": [],
   "source": [
    "# Create a bar graph of the 'Make' and 'Odometer (KM)' columns in the car_sales DataFrame\n",
    "fig, ax = plt.subplots()\n",
    "group_data = car_sales.groupby(\"Make\")[\"Odometer (KM)\"].mean()\n",
    "ax.bar(group_data.keys(), group_data.values)"
   ]
  },
  {
   "cell_type": "code",
   "execution_count": null,
   "metadata": {},
   "outputs": [],
   "source": [
    "# Create a histogram of the 'Odometer (KM)' column\n",
    "fig, ax = plt.subplots()\n",
    "ax.hist(car_sales[\"Odometer (KM)\"])"
   ]
  },
  {
   "cell_type": "code",
   "execution_count": null,
   "metadata": {},
   "outputs": [],
   "source": [
    "# Create a histogram of the 'Price' column with 20 bins\n",
    "fig, ax = plt.subplots()\n",
    "ax.hist(car_sales[\"Price\"], 20)"
   ]
  },
  {
   "cell_type": "code",
   "execution_count": null,
   "metadata": {},
   "outputs": [],
   "source": [
    "# Import \"../data/heart-disease.csv\" and save it to the variable \"heart_disease\"\n",
    "heart_disease = pd.read_csv(\"./data/heart-disease.csv\")"
   ]
  },
  {
   "cell_type": "code",
   "execution_count": null,
   "metadata": {},
   "outputs": [],
   "source": [
    "# View the first 10 rows of the heart_disease DataFrame\n",
    "heart_disease.head(10)"
   ]
  },
  {
   "cell_type": "code",
   "execution_count": null,
   "metadata": {},
   "outputs": [],
   "source": [
    "# Create a histogram of the \"age\" column with 50 bins\n",
    "fig, ax = plt.subplots()\n",
    "ax.hist(heart_disease[\"age\"], bins=50)"
   ]
  },
  {
   "cell_type": "code",
   "execution_count": null,
   "metadata": {},
   "outputs": [],
   "source": [
    "# Call the same line of code from above except change the \"figsize\" parameter to be (4, 6)\n",
    "fig, ax = plt.subplots()\n",
    "fig.set_size_inches(4, 6)\n",
    "ax.hist(heart_disease[\"age\"], bins=50)"
   ]
  },
  {
   "attachments": {},
   "cell_type": "markdown",
   "metadata": {},
   "source": [
    "Now let's try comparing two variables versus the target variable.\n",
    "\n",
    "More specifially we'll see how age and cholesterol combined effect the target in **patients over 50 years old**."
   ]
  },
  {
   "cell_type": "code",
   "execution_count": null,
   "metadata": {},
   "outputs": [],
   "source": [
    "# Replicate the above plot (../images/matplotlib-heart-disease-chol-age-plot.png)\n",
    "fig, ax = plt.subplots()\n",
    "heart_disease_over_50 = heart_disease[heart_disease[\"age\"] > 50]\n",
    "plot = ax.scatter(\n",
    "    heart_disease_over_50[\"age\"],\n",
    "    heart_disease_over_50[\"chol\"],\n",
    "    c=heart_disease_over_50[\"target\"],\n",
    "    cmap=\"winter\",\n",
    ")\n",
    "ax.axhline(\n",
    "    heart_disease_over_50[\"chol\"].mean(),\n",
    "    color=\"red\",\n",
    "    linestyle=\"--\",\n",
    "    linewidth=1,\n",
    ")\n",
    "ax.set(\n",
    "    xlabel=\"Age\",\n",
    "    ylabel=\"Cholesterol\",\n",
    ")\n",
    "ax.legend(*plot.legend_elements(), loc=\"upper right\", title=\"Target\")"
   ]
  },
  {
   "cell_type": "code",
   "execution_count": null,
   "metadata": {},
   "outputs": [],
   "source": [
    "# Check what styles are available under plt\n",
    "plt.style.available"
   ]
  },
  {
   "cell_type": "code",
   "execution_count": null,
   "metadata": {},
   "outputs": [],
   "source": [
    "# Change the style to use \"seaborn-whitegrid\"\n",
    "plt.style.use(\"seaborn-v0_8-whitegrid\")"
   ]
  },
  {
   "cell_type": "code",
   "execution_count": null,
   "metadata": {},
   "outputs": [],
   "source": [
    "# Reproduce the same figure as above with the \"seaborn-whitegrid\" style\n",
    "fig, ax = plt.subplots()\n",
    "heart_disease_over_50 = heart_disease[heart_disease[\"age\"] > 50]\n",
    "plot = ax.scatter(\n",
    "    heart_disease_over_50[\"age\"],\n",
    "    heart_disease_over_50[\"chol\"],\n",
    "    c=heart_disease_over_50[\"target\"],\n",
    "    cmap=\"winter\",\n",
    ")\n",
    "ax.axhline(\n",
    "    heart_disease_over_50[\"chol\"].mean(),\n",
    "    color=\"red\",\n",
    "    linestyle=\"--\",\n",
    "    linewidth=1,\n",
    ")\n",
    "ax.set(\n",
    "    xlabel=\"Age\",\n",
    "    xlim=(50, 80),\n",
    "    ylabel=\"Cholesterol\",\n",
    "    ylim=(10, 600),\n",
    ")\n",
    "ax.set_xlim\n",
    "ax.legend(*plot.legend_elements(), loc=\"upper right\", title=\"Target\")"
   ]
  },
  {
   "cell_type": "code",
   "execution_count": null,
   "metadata": {},
   "outputs": [],
   "source": [
    "# Save the current figure using savefig(), the file name can be anything you want\n",
    "fig.savefig(\"./figures/cholesterol-by-age.png\")"
   ]
  },
  {
   "cell_type": "code",
   "execution_count": null,
   "metadata": {},
   "outputs": [],
   "source": [
    "# Reset the figure by calling plt.subplots()\n",
    "plt.subplots()"
   ]
  },
  {
   "attachments": {},
   "cell_type": "markdown",
   "metadata": {},
   "source": [
    "## Extensions\n",
    "\n",
    "For more exercises, check out the [Matplotlib tutorials page](https://matplotlib.org/3.1.1/tutorials/index.html). A good practice would be to read through it and for the parts you find interesting, add them into the end of this notebook.\n",
    "\n",
    "The next place you could go is the [Stack Overflow page for the top questions and answers for Matplotlib](https://stackoverflow.com/questions/tagged/matplotlib?sort=MostVotes&edited=true). Often, you'll find some of the most common and useful Matplotlib functions here. Don't forget to play around with the Stack Overflow filters! You'll likely find something helpful here.\n",
    "\n",
    "Finally, as always, remember, the best way to learn something new is to try it. And try it relentlessly. Always be asking yourself, \"is there a better way this data could be visualized so it's easier to understand?\"\n"
   ]
  }
 ],
 "metadata": {
  "kernelspec": {
   "display_name": "Python 3",
   "language": "python",
   "name": "python3"
  },
  "language_info": {
   "codemirror_mode": {
    "name": "ipython",
    "version": 3
   },
   "file_extension": ".py",
   "mimetype": "text/x-python",
   "name": "python",
   "nbconvert_exporter": "python",
   "pygments_lexer": "ipython3",
   "version": "3.11.3"
  }
 },
 "nbformat": 4,
 "nbformat_minor": 2
}
