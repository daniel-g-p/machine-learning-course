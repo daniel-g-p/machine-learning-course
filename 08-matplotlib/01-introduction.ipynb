{
 "cells": [
  {
   "attachments": {},
   "cell_type": "markdown",
   "metadata": {},
   "source": [
    "# Introduction to Matplotlib\n"
   ]
  },
  {
   "cell_type": "code",
   "execution_count": null,
   "metadata": {},
   "outputs": [],
   "source": [
    "import numpy as np\n",
    "import matplotlib.pyplot as plt\n",
    "import pandas as pd"
   ]
  },
  {
   "cell_type": "code",
   "execution_count": null,
   "metadata": {},
   "outputs": [],
   "source": [
    "plot_data_x = np.arange(100)\n",
    "plot_data_y = np.linspace(0, 10, 100)"
   ]
  },
  {
   "cell_type": "code",
   "execution_count": null,
   "metadata": {},
   "outputs": [],
   "source": [
    "plt.plot(plot_data_x)"
   ]
  },
  {
   "cell_type": "code",
   "execution_count": null,
   "metadata": {},
   "outputs": [],
   "source": [
    "# PyPlot API\n",
    "plt.plot(plot_data_x, plot_data_y)"
   ]
  },
  {
   "cell_type": "code",
   "execution_count": null,
   "metadata": {},
   "outputs": [],
   "source": [
    "# Object-oriented Interface\n",
    "fig, ax = plt.subplots()\n",
    "ax.plot(plot_data_x, plot_data_y)\n",
    "ax.set(title=\"Random Integers Plot\", xlabel=\"x\", ylabel=\"y\")\n",
    "fig.savefig(\"./figures/random-figure.png\")"
   ]
  },
  {
   "cell_type": "code",
   "execution_count": null,
   "metadata": {},
   "outputs": [],
   "source": [
    "# Line Plot\n",
    "fig, ax = plt.subplots()\n",
    "ax.plot(np.square(plot_data_y))"
   ]
  },
  {
   "cell_type": "code",
   "execution_count": null,
   "metadata": {},
   "outputs": [],
   "source": [
    "# Scatter Plot\n",
    "\n",
    "fig, ax = plt.subplots()\n",
    "ax.scatter(plot_data_y, np.square(plot_data_y))\n",
    "ax.set(title=\"Square\")\n",
    "\n",
    "fig, ax = plt.subplots()\n",
    "ax.scatter(plot_data_y, np.sin(plot_data_y))\n",
    "ax.set(title=\"Sine\")"
   ]
  },
  {
   "cell_type": "code",
   "execution_count": null,
   "metadata": {},
   "outputs": [],
   "source": [
    "# Bar Chart\n",
    "\n",
    "dict_data = {\"Milk\": 0.99, \"Eggs\": 2.99, \"Bread\": 1.49}\n",
    "\n",
    "fig, ax = plt.subplots()\n",
    "ax.bar(dict_data.keys(), dict_data.values())\n",
    "ax.set(title=\"Supermarket Prices\", xlabel=\"Product\", ylabel=\"Price\")\n",
    "\n",
    "fig, ax = plt.subplots()\n",
    "ax.barh(list(dict_data.keys()), list(dict_data.values()))\n",
    "ax.set(title=\"Supermarket Prices\", xlabel=\"Price\", ylabel=\"Product\")"
   ]
  },
  {
   "cell_type": "code",
   "execution_count": null,
   "metadata": {},
   "outputs": [],
   "source": [
    "# Histogram\n",
    "\n",
    "plot_data_normal = np.random.randn(1000)\n",
    "fig, ax = plt.subplots()\n",
    "ax.hist(plot_data_normal)"
   ]
  },
  {
   "cell_type": "code",
   "execution_count": null,
   "metadata": {},
   "outputs": [],
   "source": [
    "# Multiple Graphs\n",
    "\n",
    "fig, ((ax1, ax2), (ax3, ax4)) = plt.subplots(2, 2)\n",
    "ax1.plot(plot_data_y, np.multiply(plot_data_y, 2))\n",
    "ax1.set(title=\"Double\")\n",
    "ax2.plot(plot_data_y, np.square(plot_data_y))\n",
    "ax2.set(title=\"Square\")\n",
    "ax3.plot(plot_data_y, np.sin(plot_data_y))\n",
    "ax3.set(title=\"Sine\")\n",
    "ax4.plot(plot_data_y, np.cos(plot_data_y))\n",
    "ax4.set(title=\"Cosine\")"
   ]
  },
  {
   "cell_type": "code",
   "execution_count": null,
   "metadata": {},
   "outputs": [],
   "source": [
    "# Graphs from Pandas Series\n",
    "time_series = pd.Series(\n",
    "    np.random.randn(365),\n",
    "    index=pd.date_range(\"2022-01-01\", periods=365),\n",
    ")\n",
    "time_series_cum_sum = time_series.cumsum()\n",
    "time_series_cum_sum.plot()"
   ]
  },
  {
   "cell_type": "code",
   "execution_count": null,
   "metadata": {},
   "outputs": [],
   "source": [
    "# Pandas DataFrame Preparation\n",
    "\n",
    "car_sales = pd.read_csv(\"./data/car-sales.csv\")\n",
    "\n",
    "car_sales[\"Odometer (KM)\"].fillna(car_sales[\"Odometer (KM)\"].mean(), inplace=True)\n",
    "car_sales[\"Odometer (KM)\"] = car_sales[\"Odometer (KM)\"].round(0).astype(int)\n",
    "\n",
    "car_sales[\"Doors\"].fillna(round(car_sales[\"Doors\"].mean()), inplace=True)\n",
    "car_sales[\"Doors\"] = car_sales[\"Doors\"].round(0).astype(int)\n",
    "\n",
    "car_sales[\"Price\"] = car_sales[\"Price\"].replace(\"[\\$,]\", \"\", regex=True).astype(float)\n",
    "car_sales[\"Price\"].fillna(car_sales[\"Price\"].mean(), inplace=True)\n",
    "car_sales[\"Price\"] = car_sales[\"Price\"].round(0).astype(int)\n",
    "\n",
    "car_sales[\"Registration Date\"] = pd.date_range(\"2023-01-01\", periods=len(car_sales))\n",
    "\n",
    "car_sales[\"Cumulative Sales\"] = car_sales[\"Price\"].cumsum()"
   ]
  },
  {
   "cell_type": "code",
   "execution_count": null,
   "metadata": {},
   "outputs": [],
   "source": [
    "# Pandas DataFrame Line Chart\n",
    "\n",
    "car_sales.plot.line(\n",
    "    title=\"Cumulative Sales\",\n",
    "    x=\"Registration Date\",\n",
    "    y=\"Cumulative Sales\",\n",
    "    xlabel=\"Date\",\n",
    "    ylabel=\"Sales\",\n",
    ")"
   ]
  },
  {
   "cell_type": "code",
   "execution_count": null,
   "metadata": {},
   "outputs": [],
   "source": [
    "# Pandas DataFram Scatter Chart\n",
    "\n",
    "car_sales.plot.scatter(\n",
    "    title=\"Price by Odometer\",\n",
    "    x=\"Odometer (KM)\",\n",
    "    y=\"Price\",\n",
    "    xlabel=\"Price\",\n",
    "    ylabel=\"Odometer (KM)\",\n",
    ")"
   ]
  },
  {
   "cell_type": "code",
   "execution_count": null,
   "metadata": {},
   "outputs": [],
   "source": [
    "# Pandas DataFrame grouped Bar Chart\n",
    "\n",
    "car_sales.groupby(\"Make\")[\"Price\"].mean().plot.bar()"
   ]
  }
 ],
 "metadata": {
  "kernelspec": {
   "display_name": "env",
   "language": "python",
   "name": "python3"
  },
  "language_info": {
   "codemirror_mode": {
    "name": "ipython",
    "version": 3
   },
   "file_extension": ".py",
   "mimetype": "text/x-python",
   "name": "python",
   "nbconvert_exporter": "python",
   "pygments_lexer": "ipython3",
   "version": "3.11.3"
  },
  "orig_nbformat": 4
 },
 "nbformat": 4,
 "nbformat_minor": 2
}
