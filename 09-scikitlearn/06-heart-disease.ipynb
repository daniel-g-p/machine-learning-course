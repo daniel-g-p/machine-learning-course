{
 "cells": [
  {
   "cell_type": "code",
   "execution_count": 51,
   "metadata": {},
   "outputs": [],
   "source": [
    "import numpy as np\n",
    "import pandas as pd\n",
    "import matplotlib.pyplot as plt\n",
    "\n",
    "from sklearn.ensemble import RandomForestClassifier\n",
    "from sklearn.model_selection import train_test_split\n",
    "from sklearn.neighbors import KNeighborsClassifier\n",
    "from sklearn.svm import LinearSVC"
   ]
  },
  {
   "cell_type": "code",
   "execution_count": 52,
   "metadata": {},
   "outputs": [],
   "source": [
    "df = pd.read_csv(\"./data/heart-disease.csv\")"
   ]
  },
  {
   "cell_type": "code",
   "execution_count": 53,
   "metadata": {},
   "outputs": [],
   "source": [
    "x = df.drop([\"target\"], axis=1)\n",
    "y = df[\"target\"]\n",
    "\n",
    "# np.random.seed(42)\n",
    "X_train, X_test, y_train, y_test = train_test_split(x, y, test_size=0.2)"
   ]
  },
  {
   "cell_type": "code",
   "execution_count": 54,
   "metadata": {},
   "outputs": [
    {
     "name": "stderr",
     "output_type": "stream",
     "text": [
      "c:\\Users\\danie\\_data\\courses\\machine-learning-and-data-science\\09-scikitlearn\\env\\Lib\\site-packages\\sklearn\\svm\\_base.py:1244: ConvergenceWarning: Liblinear failed to converge, increase the number of iterations.\n",
      "  warnings.warn(\n"
     ]
    },
    {
     "data": {
      "text/plain": [
       "array([1, 0, 0, 1, 1, 0, 1, 0, 1, 1, 1, 1, 1, 1, 1, 0, 1, 1, 0, 1, 1, 1,\n",
       "       0, 1, 0, 0, 1, 1, 1, 1, 0, 1, 1, 1, 1, 0, 0, 0, 0, 0, 0, 0, 1, 1,\n",
       "       0, 1, 1, 0, 1, 1, 0, 0, 1, 0, 0, 0, 1, 0, 1, 1, 1], dtype=int64)"
      ]
     },
     "execution_count": 54,
     "metadata": {},
     "output_type": "execute_result"
    }
   ],
   "source": [
    "model_svc = LinearSVC()\n",
    "\n",
    "model_svc.fit(X_train, y_train)\n",
    "model_svc.score(X_test, y_test)\n",
    "\n",
    "model_svc.predict(X_test)"
   ]
  },
  {
   "cell_type": "code",
   "execution_count": 55,
   "metadata": {},
   "outputs": [
    {
     "data": {
      "text/plain": [
       "array([1, 1, 1, 1, 1, 0, 0, 0, 1, 1, 1, 1, 1, 0, 1, 0, 1, 1, 1, 1, 0, 0,\n",
       "       0, 1, 1, 0, 0, 1, 0, 1, 0, 0, 1, 1, 0, 0, 1, 0, 1, 1, 0, 0, 0, 1,\n",
       "       1, 0, 1, 0, 0, 0, 0, 1, 0, 0, 0, 0, 0, 0, 1, 1, 1], dtype=int64)"
      ]
     },
     "execution_count": 55,
     "metadata": {},
     "output_type": "execute_result"
    }
   ],
   "source": [
    "model_knn = KNeighborsClassifier()\n",
    "\n",
    "model_knn.fit(X_train, y_train)\n",
    "model_knn.score(X_test, y_test)\n",
    "\n",
    "model_knn.predict(X_test)"
   ]
  },
  {
   "cell_type": "code",
   "execution_count": 56,
   "metadata": {},
   "outputs": [
    {
     "data": {
      "text/plain": [
       "0.8360655737704918"
      ]
     },
     "execution_count": 56,
     "metadata": {},
     "output_type": "execute_result"
    }
   ],
   "source": [
    "model_forest = RandomForestClassifier()\n",
    "\n",
    "model_forest.fit(X_train, y_train)\n",
    "model_forest.score(X_test, y_test)"
   ]
  },
  {
   "cell_type": "code",
   "execution_count": 57,
   "metadata": {},
   "outputs": [
    {
     "data": {
      "text/plain": [
       "0.8360655737704918"
      ]
     },
     "execution_count": 57,
     "metadata": {},
     "output_type": "execute_result"
    }
   ],
   "source": [
    "# predict()\n",
    "\n",
    "prediction = model_forest.predict(X_test)\n",
    "labels = np.array(y_test)\n",
    "score = np.mean(prediction == labels)\n",
    "score"
   ]
  },
  {
   "cell_type": "code",
   "execution_count": 59,
   "metadata": {},
   "outputs": [
    {
     "data": {
      "text/plain": [
       "array([[0.01, 0.99],\n",
       "       [0.7 , 0.3 ],\n",
       "       [0.78, 0.22],\n",
       "       [0.23, 0.77],\n",
       "       [0.02, 0.98],\n",
       "       [0.93, 0.07],\n",
       "       [0.43, 0.57],\n",
       "       [0.91, 0.09],\n",
       "       [0.42, 0.58],\n",
       "       [0.56, 0.44],\n",
       "       [0.54, 0.46],\n",
       "       [0.11, 0.89],\n",
       "       [0.02, 0.98],\n",
       "       [0.27, 0.73],\n",
       "       [0.05, 0.95],\n",
       "       [0.76, 0.24],\n",
       "       [0.03, 0.97],\n",
       "       [0.29, 0.71],\n",
       "       [0.47, 0.53],\n",
       "       [0.21, 0.79],\n",
       "       [0.44, 0.56],\n",
       "       [0.19, 0.81],\n",
       "       [0.98, 0.02],\n",
       "       [0.3 , 0.7 ],\n",
       "       [0.53, 0.47],\n",
       "       [0.57, 0.43],\n",
       "       [0.38, 0.62],\n",
       "       [0.03, 0.97],\n",
       "       [0.4 , 0.6 ],\n",
       "       [0.  , 1.  ],\n",
       "       [0.87, 0.13],\n",
       "       [0.3 , 0.7 ],\n",
       "       [0.25, 0.75],\n",
       "       [0.19, 0.81],\n",
       "       [0.19, 0.81],\n",
       "       [0.96, 0.04],\n",
       "       [0.87, 0.13],\n",
       "       [0.77, 0.23],\n",
       "       [0.62, 0.38],\n",
       "       [0.73, 0.27],\n",
       "       [0.92, 0.08],\n",
       "       [0.99, 0.01],\n",
       "       [0.33, 0.67],\n",
       "       [0.08, 0.92],\n",
       "       [0.46, 0.54],\n",
       "       [0.3 , 0.7 ],\n",
       "       [0.24, 0.76],\n",
       "       [0.71, 0.29],\n",
       "       [0.43, 0.57],\n",
       "       [0.47, 0.53],\n",
       "       [0.81, 0.19],\n",
       "       [0.69, 0.31],\n",
       "       [0.34, 0.66],\n",
       "       [0.9 , 0.1 ],\n",
       "       [0.9 , 0.1 ],\n",
       "       [0.33, 0.67],\n",
       "       [0.27, 0.73],\n",
       "       [0.29, 0.71],\n",
       "       [0.53, 0.47],\n",
       "       [0.  , 1.  ],\n",
       "       [0.26, 0.74]])"
      ]
     },
     "execution_count": 59,
     "metadata": {},
     "output_type": "execute_result"
    }
   ],
   "source": [
    "# predict_proba()\n",
    "\n",
    "prediction_probabilities = model_forest.predict_proba(X_test)\n",
    "prediction_probabilities"
   ]
  }
 ],
 "metadata": {
  "kernelspec": {
   "display_name": "env",
   "language": "python",
   "name": "python3"
  },
  "language_info": {
   "codemirror_mode": {
    "name": "ipython",
    "version": 3
   },
   "file_extension": ".py",
   "mimetype": "text/x-python",
   "name": "python",
   "nbconvert_exporter": "python",
   "pygments_lexer": "ipython3",
   "version": "3.11.3"
  },
  "orig_nbformat": 4
 },
 "nbformat": 4,
 "nbformat_minor": 2
}
