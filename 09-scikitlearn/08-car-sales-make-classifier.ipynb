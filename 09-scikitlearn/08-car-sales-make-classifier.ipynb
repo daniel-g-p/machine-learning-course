{
 "cells": [
  {
   "cell_type": "code",
   "execution_count": 13,
   "metadata": {},
   "outputs": [],
   "source": [
    "import pandas as pd\n",
    "\n",
    "from sklearn.compose import ColumnTransformer\n",
    "from sklearn.ensemble import RandomForestClassifier\n",
    "from sklearn.impute import SimpleImputer\n",
    "from sklearn.model_selection import train_test_split\n",
    "from sklearn.neighbors import KNeighborsClassifier\n",
    "from sklearn.preprocessing import OneHotEncoder\n",
    "from sklearn.svm import LinearSVC"
   ]
  },
  {
   "cell_type": "code",
   "execution_count": 14,
   "metadata": {},
   "outputs": [],
   "source": [
    "df = pd.read_csv(\"./data/car-sales.csv\")\n",
    "df.rename(\n",
    "    columns={\n",
    "        \"Make\": \"make\",\n",
    "        \"Colour\": \"color\",\n",
    "        \"Odometer (KM)\": \"odometer\",\n",
    "        \"Doors\": \"doors\",\n",
    "        \"Price\": \"price\",\n",
    "    },\n",
    "    inplace=True,\n",
    ")\n",
    "df.dropna(subset=[\"make\"], inplace=True)"
   ]
  },
  {
   "cell_type": "code",
   "execution_count": 15,
   "metadata": {},
   "outputs": [],
   "source": [
    "X = df.drop(\"make\", axis=1)\n",
    "y = df[\"make\"]\n",
    "\n",
    "X_train, X_test, y_train, y_test = train_test_split(X, y, test_size=0.2)"
   ]
  },
  {
   "cell_type": "code",
   "execution_count": 16,
   "metadata": {},
   "outputs": [],
   "source": [
    "imputer = ColumnTransformer(\n",
    "    [\n",
    "        (\n",
    "            \"imputer_color\",\n",
    "            SimpleImputer(strategy=\"constant\", fill_value=\"Unknown\"),\n",
    "            [\"color\"],\n",
    "        ),\n",
    "        (\n",
    "            \"imputer_doors\",\n",
    "            SimpleImputer(strategy=\"constant\", fill_value=X_train[\"doors\"].mode()[0]),\n",
    "            [\"doors\"],\n",
    "        ),\n",
    "        (\n",
    "            \"imputer_odometer\",\n",
    "            SimpleImputer(strategy=\"constant\", fill_value=X_train[\"odometer\"].mean()),\n",
    "            [\"odometer\"],\n",
    "        ),\n",
    "        (\n",
    "            \"imputer_price\",\n",
    "            SimpleImputer(strategy=\"constant\", fill_value=X_train[\"price\"].mean()),\n",
    "            [\"price\"],\n",
    "        ),\n",
    "    ],\n",
    "    remainder=\"passthrough\",\n",
    ")\n",
    "\n",
    "encoder = ColumnTransformer(\n",
    "    [\n",
    "        (\n",
    "            \"encoder_X\",\n",
    "            OneHotEncoder(handle_unknown=\"ignore\", sparse_output=False),\n",
    "            [\"color\", \"doors\"],\n",
    "        ),\n",
    "    ],\n",
    "    remainder=\"passthrough\",\n",
    ")"
   ]
  },
  {
   "cell_type": "code",
   "execution_count": 17,
   "metadata": {},
   "outputs": [],
   "source": [
    "X_train = pd.DataFrame(\n",
    "    imputer.fit_transform(X_train),\n",
    "    columns=[\"color\", \"doors\", \"odometer\", \"price\"],\n",
    ")\n",
    "\n",
    "X_train = pd.DataFrame(\n",
    "    encoder.fit_transform(X_train),\n",
    "    columns=encoder.get_feature_names_out(X_train.columns),\n",
    ")\n",
    "\n",
    "X_test = pd.DataFrame(\n",
    "    imputer.fit_transform(X_test),\n",
    "    columns=[\"color\", \"doors\", \"odometer\", \"price\"],\n",
    ")\n",
    "\n",
    "X_test = pd.DataFrame(\n",
    "    encoder.fit_transform(X_test),\n",
    "    columns=encoder.get_feature_names_out(X_test.columns),\n",
    ")"
   ]
  },
  {
   "cell_type": "code",
   "execution_count": 18,
   "metadata": {},
   "outputs": [
    {
     "name": "stdout",
     "output_type": "stream",
     "text": [
      "RandomForest: 0.45549738219895286\n",
      "LinearSVC: 0.3717277486910995\n",
      "KNearestNeighbors: 0.3717277486910995\n"
     ]
    },
    {
     "name": "stderr",
     "output_type": "stream",
     "text": [
      "c:\\Users\\danie\\_data\\courses\\machine-learning-and-data-science\\09-scikitlearn\\env\\Lib\\site-packages\\sklearn\\svm\\_base.py:1244: ConvergenceWarning: Liblinear failed to converge, increase the number of iterations.\n",
      "  warnings.warn(\n"
     ]
    }
   ],
   "source": [
    "model_forest = RandomForestClassifier()\n",
    "model_forest.fit(X_train, y_train)\n",
    "model_forest_score = model_forest.score(X_test, y_test)\n",
    "\n",
    "model_svc = LinearSVC()\n",
    "model_svc.fit(X_train, y_train)\n",
    "model_svc_score = model_svc.score(X_test, y_test)\n",
    "\n",
    "model_knn = KNeighborsClassifier()\n",
    "model_knn.fit(X_train, y_train)\n",
    "model_knn_score = model_knn.score(X_test, y_test)\n",
    "\n",
    "print(f\"RandomForest: {model_forest_score}\")\n",
    "print(f\"LinearSVC: {model_svc_score}\")\n",
    "print(f\"KNearestNeighbors: {model_knn_score}\")"
   ]
  }
 ],
 "metadata": {
  "kernelspec": {
   "display_name": "env",
   "language": "python",
   "name": "python3"
  },
  "language_info": {
   "codemirror_mode": {
    "name": "ipython",
    "version": 3
   },
   "file_extension": ".py",
   "mimetype": "text/x-python",
   "name": "python",
   "nbconvert_exporter": "python",
   "pygments_lexer": "ipython3",
   "version": "3.11.3"
  },
  "orig_nbformat": 4
 },
 "nbformat": 4,
 "nbformat_minor": 2
}
