{
 "cells": [
  {
   "cell_type": "code",
   "execution_count": null,
   "metadata": {},
   "outputs": [],
   "source": [
    "import numpy as np\n",
    "import pandas as pd\n",
    "\n",
    "from sklearn.compose import ColumnTransformer\n",
    "from sklearn.ensemble import RandomForestClassifier\n",
    "from sklearn.impute import SimpleImputer\n",
    "from sklearn.metrics import roc_curve\n",
    "from sklearn.model_selection import train_test_split, cross_val_score\n",
    "from sklearn.neighbors import KNeighborsClassifier\n",
    "from sklearn.preprocessing import OneHotEncoder\n",
    "from sklearn.svm import LinearSVC"
   ]
  },
  {
   "cell_type": "code",
   "execution_count": null,
   "metadata": {},
   "outputs": [],
   "source": [
    "df = pd.read_csv(\"./data/car-sales.csv\")\n",
    "df.rename(\n",
    "    columns={\n",
    "        \"Make\": \"make\",\n",
    "        \"Colour\": \"color\",\n",
    "        \"Odometer (KM)\": \"odometer\",\n",
    "        \"Doors\": \"doors\",\n",
    "        \"Price\": \"price\",\n",
    "    },\n",
    "    inplace=True,\n",
    ")\n",
    "df.dropna(subset=[\"make\"], inplace=True)"
   ]
  },
  {
   "attachments": {},
   "cell_type": "markdown",
   "metadata": {},
   "source": [
    "## Option 1: train_test_split()\n"
   ]
  },
  {
   "cell_type": "code",
   "execution_count": null,
   "metadata": {},
   "outputs": [],
   "source": [
    "X = df.drop(\"make\", axis=1)\n",
    "y = df[\"make\"]\n",
    "\n",
    "X_train, X_test, y_train, y_test = train_test_split(X, y, test_size=0.2)"
   ]
  },
  {
   "cell_type": "code",
   "execution_count": null,
   "metadata": {},
   "outputs": [],
   "source": [
    "imputer = ColumnTransformer(\n",
    "    [\n",
    "        (\n",
    "            \"imputer_color\",\n",
    "            SimpleImputer(strategy=\"constant\", fill_value=\"Unknown\"),\n",
    "            [\"color\"],\n",
    "        ),\n",
    "        (\n",
    "            \"imputer_doors\",\n",
    "            SimpleImputer(strategy=\"constant\", fill_value=X_train[\"doors\"].mode()[0]),\n",
    "            [\"doors\"],\n",
    "        ),\n",
    "        (\n",
    "            \"imputer_odometer\",\n",
    "            SimpleImputer(strategy=\"constant\", fill_value=X_train[\"odometer\"].mean()),\n",
    "            [\"odometer\"],\n",
    "        ),\n",
    "        (\n",
    "            \"imputer_price\",\n",
    "            SimpleImputer(strategy=\"constant\", fill_value=X_train[\"price\"].mean()),\n",
    "            [\"price\"],\n",
    "        ),\n",
    "    ],\n",
    "    remainder=\"passthrough\",\n",
    ")\n",
    "\n",
    "encoder = ColumnTransformer(\n",
    "    [\n",
    "        (\n",
    "            \"encoder\",\n",
    "            OneHotEncoder(handle_unknown=\"ignore\", sparse_output=False),\n",
    "            [\"color\", \"doors\"],\n",
    "        ),\n",
    "    ],\n",
    "    remainder=\"passthrough\",\n",
    ")"
   ]
  },
  {
   "cell_type": "code",
   "execution_count": null,
   "metadata": {},
   "outputs": [],
   "source": [
    "X_train = pd.DataFrame(\n",
    "    imputer.fit_transform(X_train),\n",
    "    columns=[\"color\", \"doors\", \"odometer\", \"price\"],\n",
    ")\n",
    "\n",
    "X_train = pd.DataFrame(\n",
    "    encoder.fit_transform(X_train),\n",
    "    columns=encoder.get_feature_names_out(X_train.columns),\n",
    ")\n",
    "\n",
    "X_test = pd.DataFrame(\n",
    "    imputer.fit_transform(X_test),\n",
    "    columns=[\"color\", \"doors\", \"odometer\", \"price\"],\n",
    ")\n",
    "\n",
    "X_test = pd.DataFrame(\n",
    "    encoder.fit_transform(X_test),\n",
    "    columns=encoder.get_feature_names_out(X_test.columns),\n",
    ")"
   ]
  },
  {
   "cell_type": "code",
   "execution_count": null,
   "metadata": {},
   "outputs": [],
   "source": [
    "model_forest = RandomForestClassifier()\n",
    "model_forest.fit(X_train, y_train)\n",
    "model_forest_score = model_forest.score(X_test, y_test)\n",
    "\n",
    "model_svc = LinearSVC()\n",
    "model_svc.fit(X_train, y_train)\n",
    "model_svc_score = model_svc.score(X_test, y_test)\n",
    "\n",
    "model_knn = KNeighborsClassifier()\n",
    "model_knn.fit(X_train, y_train)\n",
    "model_knn_score = model_knn.score(X_test, y_test)\n",
    "\n",
    "print(f\"RandomForest: {model_forest_score}\")\n",
    "print(f\"LinearSVC: {model_svc_score}\")\n",
    "print(f\"KNearestNeighbors: {model_knn_score}\")"
   ]
  },
  {
   "attachments": {},
   "cell_type": "markdown",
   "metadata": {},
   "source": [
    "## Option 2: cross_val_score()\n"
   ]
  },
  {
   "cell_type": "code",
   "execution_count": null,
   "metadata": {},
   "outputs": [],
   "source": [
    "df.dropna(inplace=True)\n",
    "\n",
    "X = df.drop(\"make\", axis=1)\n",
    "y = df[\"make\"]"
   ]
  },
  {
   "cell_type": "code",
   "execution_count": null,
   "metadata": {},
   "outputs": [],
   "source": [
    "encoder = ColumnTransformer(\n",
    "    [\n",
    "        (\n",
    "            \"encoder\",\n",
    "            OneHotEncoder(handle_unknown=\"ignore\", sparse_output=False),\n",
    "            [\"color\", \"doors\"],\n",
    "        ),\n",
    "    ],\n",
    "    remainder=\"passthrough\",\n",
    ")\n",
    "\n",
    "X = pd.DataFrame(\n",
    "    encoder.fit_transform(X),\n",
    "    columns=encoder.get_feature_names_out(X.columns),\n",
    ")"
   ]
  },
  {
   "cell_type": "code",
   "execution_count": null,
   "metadata": {},
   "outputs": [],
   "source": [
    "model_forest_scores = cross_val_score(\n",
    "    RandomForestClassifier(),\n",
    "    X,\n",
    "    y,\n",
    "    cv=5,\n",
    "    scoring=\"accuracy\",\n",
    ")\n",
    "\n",
    "model_svc_scores = cross_val_score(\n",
    "    LinearSVC(),\n",
    "    X,\n",
    "    y,\n",
    "    cv=5,\n",
    "    scoring=\"accuracy\",\n",
    ")\n",
    "\n",
    "model_knn_scores = cross_val_score(\n",
    "    KNeighborsClassifier(),\n",
    "    X,\n",
    "    y,\n",
    "    cv=5,\n",
    "    scoring=\"accuracy\",\n",
    ")\n",
    "\n",
    "print(f\"RandomForest: {np.mean(model_forest_scores)}\")\n",
    "print(f\"LinearSVC: {np.mean(model_svc_scores)}\")\n",
    "print(f\"KNearestNeighbors: {np.mean(model_knn_scores)}\")"
   ]
  }
 ],
 "metadata": {
  "kernelspec": {
   "display_name": "env",
   "language": "python",
   "name": "python3"
  },
  "language_info": {
   "codemirror_mode": {
    "name": "ipython",
    "version": 3
   },
   "file_extension": ".py",
   "mimetype": "text/x-python",
   "name": "python",
   "nbconvert_exporter": "python",
   "pygments_lexer": "ipython3",
   "version": "3.11.3"
  },
  "orig_nbformat": 4
 },
 "nbformat": 4,
 "nbformat_minor": 2
}
