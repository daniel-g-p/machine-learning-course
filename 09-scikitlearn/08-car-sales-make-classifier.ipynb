{
 "cells": [
  {
   "cell_type": "code",
   "execution_count": 162,
   "metadata": {},
   "outputs": [],
   "source": [
    "import pandas as pd\n",
    "\n",
    "from sklearn.compose import ColumnTransformer\n",
    "from sklearn.ensemble import RandomForestClassifier\n",
    "from sklearn.impute import SimpleImputer\n",
    "from sklearn.model_selection import train_test_split\n",
    "from sklearn.neighbors import KNeighborsClassifier\n",
    "from sklearn.preprocessing import OneHotEncoder\n",
    "from sklearn.svm import LinearSVC"
   ]
  },
  {
   "cell_type": "code",
   "execution_count": 163,
   "metadata": {},
   "outputs": [],
   "source": [
    "df = pd.read_csv(\"./data/car-sales.csv\")\n",
    "df.rename(\n",
    "    columns={\n",
    "        \"Make\": \"make\",\n",
    "        \"Colour\": \"color\",\n",
    "        \"Odometer (KM)\": \"odometer\",\n",
    "        \"Doors\": \"doors\",\n",
    "        \"Price\": \"price\",\n",
    "    },\n",
    "    inplace=True,\n",
    ")\n",
    "df.dropna(subset=[\"make\"], inplace=True)"
   ]
  },
  {
   "cell_type": "code",
   "execution_count": 164,
   "metadata": {},
   "outputs": [],
   "source": [
    "X = df.drop(\"make\", axis=1)\n",
    "y = df[\"make\"]\n",
    "\n",
    "X_train, X_test, y_train, y_test = train_test_split(X, y, test_size=0.2)"
   ]
  },
  {
   "cell_type": "code",
   "execution_count": 165,
   "metadata": {},
   "outputs": [],
   "source": [
    "imputer_X = ColumnTransformer(\n",
    "    [\n",
    "        (\n",
    "            \"imputer_X_na\",\n",
    "            SimpleImputer(strategy=\"constant\", fill_value=\"Unknown\"),\n",
    "            [\"color\"],\n",
    "        ),\n",
    "        (\n",
    "            \"imputer_X_mode\",\n",
    "            SimpleImputer(strategy=\"most_frequent\"),\n",
    "            [\"doors\"],\n",
    "        ),\n",
    "        (\n",
    "            \"imputer_X_mean\",\n",
    "            SimpleImputer(strategy=\"mean\"),\n",
    "            [\"odometer\", \"price\"],\n",
    "        ),\n",
    "    ],\n",
    "    remainder=\"passthrough\",\n",
    ")\n",
    "\n",
    "encoder_X = ColumnTransformer(\n",
    "    [\n",
    "        (\n",
    "            \"encoder_X\",\n",
    "            OneHotEncoder(handle_unknown=\"ignore\", sparse_output=False),\n",
    "            [\"color\", \"doors\"],\n",
    "        ),\n",
    "    ],\n",
    "    remainder=\"passthrough\",\n",
    ")"
   ]
  },
  {
   "cell_type": "code",
   "execution_count": 166,
   "metadata": {},
   "outputs": [],
   "source": [
    "X_train_imputed = imputer_X.fit_transform(X_train)\n",
    "X_train = pd.DataFrame(X_train_imputed, columns=[\"color\", \"doors\", \"odometer\", \"price\"])\n",
    "\n",
    "X_train_encoded = encoder_X.fit_transform(X_train)\n",
    "X_train_columns = encoder_X.get_feature_names_out(X_train.columns)\n",
    "X_train = pd.DataFrame(X_train_encoded, columns=X_train_columns)\n",
    "\n",
    "X_test_imputed = imputer_X.fit_transform(X_test)\n",
    "X_test = pd.DataFrame(X_test_imputed, columns=[\"color\", \"doors\", \"odometer\", \"price\"])\n",
    "\n",
    "X_test_encoded = encoder_X.fit_transform(X_test)\n",
    "X_test_columns = encoder_X.get_feature_names_out(X_test.columns)\n",
    "X_test = pd.DataFrame(X_test_encoded, columns=X_test_columns)"
   ]
  },
  {
   "cell_type": "code",
   "execution_count": 167,
   "metadata": {},
   "outputs": [
    {
     "data": {
      "text/plain": [
       "0.47643979057591623"
      ]
     },
     "execution_count": 167,
     "metadata": {},
     "output_type": "execute_result"
    }
   ],
   "source": [
    "model_forest = RandomForestClassifier()\n",
    "model_forest.fit(X_train, y_train)\n",
    "model_forest.score(X_test, y_test)"
   ]
  },
  {
   "cell_type": "code",
   "execution_count": 168,
   "metadata": {},
   "outputs": [
    {
     "name": "stderr",
     "output_type": "stream",
     "text": [
      "c:\\Users\\danie\\_data\\courses\\machine-learning-and-data-science\\09-scikitlearn\\env\\Lib\\site-packages\\sklearn\\svm\\_base.py:1244: ConvergenceWarning: Liblinear failed to converge, increase the number of iterations.\n",
      "  warnings.warn(\n"
     ]
    },
    {
     "data": {
      "text/plain": [
       "0.38219895287958117"
      ]
     },
     "execution_count": 168,
     "metadata": {},
     "output_type": "execute_result"
    }
   ],
   "source": [
    "model_svc = LinearSVC()\n",
    "model_svc.fit(X_train, y_train)\n",
    "model_svc.score(X_test, y_test)"
   ]
  },
  {
   "cell_type": "code",
   "execution_count": 169,
   "metadata": {},
   "outputs": [
    {
     "data": {
      "text/plain": [
       "0.3089005235602094"
      ]
     },
     "execution_count": 169,
     "metadata": {},
     "output_type": "execute_result"
    }
   ],
   "source": [
    "model_knn = KNeighborsClassifier()\n",
    "model_knn.fit(X_train, y_train)\n",
    "model_knn.score(X_test, y_test)"
   ]
  }
 ],
 "metadata": {
  "kernelspec": {
   "display_name": "env",
   "language": "python",
   "name": "python3"
  },
  "language_info": {
   "codemirror_mode": {
    "name": "ipython",
    "version": 3
   },
   "file_extension": ".py",
   "mimetype": "text/x-python",
   "name": "python",
   "nbconvert_exporter": "python",
   "pygments_lexer": "ipython3",
   "version": "3.11.3"
  },
  "orig_nbformat": 4
 },
 "nbformat": 4,
 "nbformat_minor": 2
}
