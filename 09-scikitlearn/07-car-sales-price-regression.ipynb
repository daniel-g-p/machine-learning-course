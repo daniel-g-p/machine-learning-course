{
 "cells": [
  {
   "attachments": {},
   "cell_type": "markdown",
   "metadata": {},
   "source": [
    "# Car Sales Price Regression\n"
   ]
  },
  {
   "cell_type": "code",
   "execution_count": null,
   "metadata": {},
   "outputs": [],
   "source": [
    "import numpy as np\n",
    "import pandas as pd\n",
    "\n",
    "from sklearn.compose import ColumnTransformer\n",
    "from sklearn.ensemble import RandomForestRegressor\n",
    "from sklearn.impute import SimpleImputer\n",
    "from sklearn.linear_model import ElasticNet, Lasso\n",
    "from sklearn.model_selection import train_test_split, cross_val_score\n",
    "from sklearn.pipeline import Pipeline\n",
    "from sklearn.preprocessing import OneHotEncoder"
   ]
  },
  {
   "cell_type": "code",
   "execution_count": null,
   "metadata": {},
   "outputs": [],
   "source": [
    "df = pd.read_csv(\"./data/car-sales.csv\")\n",
    "df.rename(\n",
    "    columns={\n",
    "        \"Make\": \"make\",\n",
    "        \"Colour\": \"color\",\n",
    "        \"Odometer (KM)\": \"odometer\",\n",
    "        \"Doors\": \"doors\",\n",
    "        \"Price\": \"price\",\n",
    "    },\n",
    "    inplace=True,\n",
    ")\n",
    "df.dropna(subset=[\"price\"], inplace=True)"
   ]
  },
  {
   "attachments": {},
   "cell_type": "markdown",
   "metadata": {},
   "source": [
    "## Option 1: train_test_split()\n"
   ]
  },
  {
   "cell_type": "code",
   "execution_count": null,
   "metadata": {},
   "outputs": [],
   "source": [
    "X = df.drop(\"price\", axis=1)\n",
    "y = df[\"price\"]\n",
    "\n",
    "X_train, X_test, y_train, y_test = train_test_split(X, y, test_size=0.2)"
   ]
  },
  {
   "cell_type": "code",
   "execution_count": null,
   "metadata": {},
   "outputs": [],
   "source": [
    "imputer = ColumnTransformer(\n",
    "    [\n",
    "        (\n",
    "            \"imputer_na\",\n",
    "            SimpleImputer(strategy=\"constant\", fill_value=\"Unknown\"),\n",
    "            [\"make\", \"color\"],\n",
    "        ),\n",
    "        (\n",
    "            \"imputer_mode\",\n",
    "            SimpleImputer(strategy=\"constant\", fill_value=X_train[\"doors\"].mode()[0]),\n",
    "            [\"doors\"],\n",
    "        ),\n",
    "        (\n",
    "            \"imputer_mean\",\n",
    "            SimpleImputer(strategy=\"constant\", fill_value=X_train[\"odometer\"].mean()),\n",
    "            [\"odometer\"],\n",
    "        ),\n",
    "    ],\n",
    "    remainder=\"passthrough\",\n",
    ")\n",
    "\n",
    "encoder = ColumnTransformer(\n",
    "    [\n",
    "        (\n",
    "            \"encoder\",\n",
    "            OneHotEncoder(handle_unknown=\"ignore\", sparse_output=False),\n",
    "            [\"make\", \"color\", \"doors\"],\n",
    "        ),\n",
    "    ],\n",
    "    remainder=\"passthrough\",\n",
    ")"
   ]
  },
  {
   "cell_type": "code",
   "execution_count": null,
   "metadata": {},
   "outputs": [],
   "source": [
    "X_train = pd.DataFrame(\n",
    "    imputer.fit_transform(X_train),\n",
    "    columns=[\"make\", \"color\", \"doors\", \"odometer\"],\n",
    ")\n",
    "\n",
    "X_train = pd.DataFrame(\n",
    "    encoder.fit_transform(X_train),\n",
    "    columns=encoder.get_feature_names_out(X_train.columns),\n",
    ")\n",
    "\n",
    "X_test = pd.DataFrame(\n",
    "    imputer.fit_transform(X_test),\n",
    "    columns=[\"make\", \"color\", \"doors\", \"odometer\"],\n",
    ")\n",
    "\n",
    "X_test = pd.DataFrame(\n",
    "    encoder.fit_transform(X_test),\n",
    "    columns=encoder.get_feature_names_out(X_test.columns),\n",
    ")"
   ]
  },
  {
   "cell_type": "code",
   "execution_count": null,
   "metadata": {},
   "outputs": [],
   "source": [
    "model_forest = RandomForestRegressor()\n",
    "model_forest.fit(X_train, y_train)\n",
    "model_forest_score = model_forest.score(X_test, y_test)\n",
    "\n",
    "model_lasso = Lasso()\n",
    "model_lasso.fit(X_train, y_train)\n",
    "model_lasso_score = model_lasso.score(X_test, y_test)\n",
    "\n",
    "model_elastic = ElasticNet()\n",
    "model_elastic.fit(X_train, y_train)\n",
    "model_elastic_score = model_elastic.score(X_test, y_test)\n",
    "\n",
    "print(f\"RandomForest: {model_forest_score}\")\n",
    "print(f\"Lasso: {model_lasso_score}\")\n",
    "print(f\"ElasticNet: {model_elastic_score}\")"
   ]
  },
  {
   "attachments": {},
   "cell_type": "markdown",
   "metadata": {},
   "source": [
    "## Option 2: cross_val_score()\n"
   ]
  },
  {
   "cell_type": "code",
   "execution_count": null,
   "metadata": {},
   "outputs": [],
   "source": [
    "X = df.drop(\"price\", axis=1)\n",
    "y = df[\"price\"]"
   ]
  },
  {
   "cell_type": "code",
   "execution_count": null,
   "metadata": {},
   "outputs": [],
   "source": [
    "imputer = ColumnTransformer(\n",
    "    [\n",
    "        (\n",
    "            \"imputer_na\",\n",
    "            SimpleImputer(strategy=\"constant\", fill_value=\"Unknown\"),\n",
    "            [\"make\", \"color\"],\n",
    "        ),\n",
    "        (\n",
    "            \"imputer_mode\",\n",
    "            SimpleImputer(strategy=\"most_frequent\"),\n",
    "            [\"doors\"],\n",
    "        ),\n",
    "        (\n",
    "            \"imputer_mean\",\n",
    "            SimpleImputer(strategy=\"mean\"),\n",
    "            [\"odometer\"],\n",
    "        ),\n",
    "    ],\n",
    "    remainder=\"passthrough\",\n",
    ")\n",
    "\n",
    "encoder = ColumnTransformer(\n",
    "    [\n",
    "        (\n",
    "            \"encoder\",\n",
    "            OneHotEncoder(handle_unknown=\"ignore\", sparse_output=False),\n",
    "            [0, 1, 2],\n",
    "        ),\n",
    "    ],\n",
    "    remainder=\"passthrough\",\n",
    ")"
   ]
  },
  {
   "cell_type": "code",
   "execution_count": null,
   "metadata": {},
   "outputs": [],
   "source": [
    "model_lasso = Pipeline(\n",
    "    [\n",
    "        (\"imputer\", imputer),\n",
    "        (\"encoder\", encoder),\n",
    "        (\"estimator\", Lasso()),\n",
    "    ]\n",
    ")\n",
    "model_lasso_scores = cross_val_score(model_lasso, X, y, cv=5)\n",
    "\n",
    "model_forest = Pipeline(\n",
    "    [\n",
    "        (\"imputer\", imputer),\n",
    "        (\"encoder\", encoder),\n",
    "        (\"estimator\", RandomForestRegressor()),\n",
    "    ]\n",
    ")\n",
    "model_forest_scores = cross_val_score(model_forest, X, y, cv=5)\n",
    "\n",
    "model_elastic = Pipeline(\n",
    "    [\n",
    "        (\"imputer\", imputer),\n",
    "        (\"encoder\", encoder),\n",
    "        (\"estimator\", ElasticNet()),\n",
    "    ]\n",
    ")\n",
    "model_elastic_scores = cross_val_score(model_elastic, X, y, cv=5)\n",
    "\n",
    "print(f\"RandomForest: {np.mean(model_forest_score)}\")\n",
    "print(f\"Lasso: {np.mean(model_lasso_score)}\")\n",
    "print(f\"ElasticNet: {np.mean(model_elastic_score)}\")"
   ]
  }
 ],
 "metadata": {
  "kernelspec": {
   "display_name": "env",
   "language": "python",
   "name": "python3"
  },
  "language_info": {
   "codemirror_mode": {
    "name": "ipython",
    "version": 3
   },
   "file_extension": ".py",
   "mimetype": "text/x-python",
   "name": "python",
   "nbconvert_exporter": "python",
   "pygments_lexer": "ipython3",
   "version": "3.11.3"
  },
  "orig_nbformat": 4
 },
 "nbformat": 4,
 "nbformat_minor": 2
}
