{
 "cells": [
  {
   "cell_type": "code",
   "execution_count": 4,
   "metadata": {},
   "outputs": [],
   "source": [
    "import numpy as np\n",
    "import pandas as pd\n",
    "from sklearn.datasets import fetch_20newsgroups"
   ]
  },
  {
   "cell_type": "code",
   "execution_count": 26,
   "metadata": {},
   "outputs": [
    {
     "data": {
      "text/plain": [
       "['From: dfo@vttoulu.tko.vtt.fi (Foxvog Douglas)',\n",
       " 'Subject: Re: Rewording the Second Amendment (ideas)',\n",
       " 'Organization: VTT',\n",
       " 'Lines: 58',\n",
       " '',\n",
       " 'In article <1r1eu1$4t@transfer.stratus.com> cdt@sw.stratus.com (C. D. Tavares) writes:',\n",
       " '>In article <1993Apr20.083057.16899@ousrvr.oulu.fi>, dfo@vttoulu.tko.vtt.fi (Foxvog Douglas) writes:',\n",
       " '>> In article <1qv87v$4j3@transfer.stratus.com> cdt@sw.stratus.com (C. D. Tavares) writes:',\n",
       " '>> >In article <C5n3GI.F8F@ulowell.ulowell.edu>, jrutledg@cs.ulowell.edu (John Lawrence Rutledge) writes:',\n",
       " '>',\n",
       " '>> >> The massive destructive power of many modern weapons, makes the',\n",
       " '>> >> cost of an accidental or crimial usage of these weapons to great.',\n",
       " '>> >> The weapons of mass destruction need to be in the control of',\n",
       " '>> >> the government only.  Individual access would result in the',\n",
       " '>> >> needless deaths of millions.  This makes the right of the people',\n",
       " '>> >> to keep and bear many modern weapons non-existant.',\n",
       " '',\n",
       " \">> >Thanks for stating where you're coming from.  Needless to say, I\",\n",
       " '>> >disagree on every count.',\n",
       " '',\n",
       " '>> You believe that individuals should have the right to own weapons of',\n",
       " '>> mass destruction?  I find it hard to believe that you would support a ',\n",
       " \">> neighbor's right to keep nuclear weapons, biological weapons, and nerve\",\n",
       " '>> gas on his/her property.  ',\n",
       " '',\n",
       " '>> If we cannot even agree on keeping weapons of mass destruction out of',\n",
       " '>> the hands of individuals, can there be any hope for us?',\n",
       " '',\n",
       " \">I don't sign any blank checks.\",\n",
       " '',\n",
       " 'Of course.  The term must be rigidly defined in any bill.',\n",
       " '',\n",
       " '>When Doug Foxvog says \"weapons of mass destruction,\" he means CBW and',\n",
       " '>nukes.  When Sarah Brady says \"weapons of mass destruction\" she means',\n",
       " '>Street Sweeper shotguns and semi-automatic SKS rifles.  ',\n",
       " '',\n",
       " 'I doubt she uses this term for that.  You are using a quote allegedly',\n",
       " 'from her, can you back it up?',\n",
       " '',\n",
       " '>When John',\n",
       " '>Lawrence Rutledge says \"weapons of mass destruction,\" and then immediately',\n",
       " '>follows it with:',\n",
       " '',\n",
       " '>>> The US has thousands of people killed each year by handguns,',\n",
       " '>>> this number can easily be reduced by putting reasonable restrictions',\n",
       " '>>> on them.',\n",
       " '',\n",
       " '>...what does Rutledge mean by the term?',\n",
       " '',\n",
       " 'I read the article as presenting first an argument about weapons of mass',\n",
       " 'destruction (as commonly understood) and then switching to other topics.',\n",
       " 'The first point evidently was to show that not all weapons should be',\n",
       " 'allowed, and then the later analysis was, given this understanding, to',\n",
       " 'consider another class.',\n",
       " '',\n",
       " '>cdt@rocket.sw.stratus.com   --If you believe that I speak for my company,',\n",
       " \">OR cdt@vos.stratus.com        write today for my special Investors' Packet...\",\n",
       " '',\n",
       " '',\n",
       " '',\n",
       " '-- ',\n",
       " 'doug foxvog',\n",
       " 'douglas.foxvog@vtt.fi',\n",
       " '']"
      ]
     },
     "execution_count": 26,
     "metadata": {},
     "output_type": "execute_result"
    }
   ],
   "source": [
    "newsgroups_train = fetch_20newsgroups(subset=\"train\")\n",
    "# newsgroups_test = fetch_20newsgroups(subset=\"test\")\n",
    "\n",
    "# df = pd.DataFrame(newsgroups_train[\"data\"], columns=newsgroups_train[\"target_names\"])\n",
    "# df[\"Target\"] = pd.Series(newsgroups_train[\"target\"], index=df.index)\n",
    "# newsgroups_test = fetch_20newsgroups(subset=\"test\")\n",
    "\n",
    "newsgroups_train[\"data\"][5].split(\"\\n\")\n",
    "# newsgroups_train[\"target_names\"]\n",
    "\n",
    "# newsgroups_train\n",
    "\n",
    "# df"
   ]
  }
 ],
 "metadata": {
  "kernelspec": {
   "display_name": "env",
   "language": "python",
   "name": "python3"
  },
  "language_info": {
   "codemirror_mode": {
    "name": "ipython",
    "version": 3
   },
   "file_extension": ".py",
   "mimetype": "text/x-python",
   "name": "python",
   "nbconvert_exporter": "python",
   "pygments_lexer": "ipython3",
   "version": "3.11.3"
  },
  "orig_nbformat": 4
 },
 "nbformat": 4,
 "nbformat_minor": 2
}
