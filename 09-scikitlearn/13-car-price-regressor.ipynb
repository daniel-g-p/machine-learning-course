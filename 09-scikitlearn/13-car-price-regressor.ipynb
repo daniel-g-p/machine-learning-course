{
 "cells": [
  {
   "attachments": {},
   "cell_type": "markdown",
   "metadata": {},
   "source": [
    "# Car Price Regressor\n"
   ]
  },
  {
   "cell_type": "code",
   "execution_count": 21,
   "metadata": {},
   "outputs": [],
   "source": [
    "import numpy as np\n",
    "\n",
    "import pandas as pd\n",
    "\n",
    "from sklearn.compose import ColumnTransformer\n",
    "from sklearn.ensemble import RandomForestRegressor\n",
    "from sklearn.impute import SimpleImputer\n",
    "from sklearn.model_selection import GridSearchCV, train_test_split\n",
    "from sklearn.pipeline import Pipeline\n",
    "from sklearn.preprocessing import OneHotEncoder"
   ]
  },
  {
   "cell_type": "code",
   "execution_count": 22,
   "metadata": {},
   "outputs": [],
   "source": [
    "np.random.seed(42)"
   ]
  },
  {
   "cell_type": "code",
   "execution_count": 23,
   "metadata": {},
   "outputs": [],
   "source": [
    "df = pd.read_csv(\"./data/car-sales.csv\").sample(frac=1)\n",
    "\n",
    "df.rename(\n",
    "    columns={\n",
    "        \"Make\": \"make\",\n",
    "        \"Colour\": \"color\",\n",
    "        \"Odometer (KM)\": \"odometer\",\n",
    "        \"Doors\": \"doors\",\n",
    "        \"Price\": \"price\",\n",
    "    },\n",
    "    inplace=True,\n",
    ")\n",
    "\n",
    "df.dropna(subset=[\"price\"], inplace=True)"
   ]
  },
  {
   "cell_type": "code",
   "execution_count": 24,
   "metadata": {},
   "outputs": [],
   "source": [
    "X = df.drop(\"price\", axis=1)\n",
    "y = df[\"price\"]\n",
    "\n",
    "X_train, X_test, y_train, y_test = train_test_split(X, y, test_size=0.2)"
   ]
  },
  {
   "cell_type": "code",
   "execution_count": 25,
   "metadata": {},
   "outputs": [],
   "source": [
    "preprocessor = ColumnTransformer(\n",
    "    [\n",
    "        (\n",
    "            \"preprocessor_make_color\",\n",
    "            Pipeline(\n",
    "                [\n",
    "                    (\"imputer\", SimpleImputer(strategy=\"constant\", fill_value=\"NA\")),\n",
    "                    (\"encoder\", OneHotEncoder(handle_unknown=\"ignore\")),\n",
    "                ],\n",
    "            ),\n",
    "            [\"make\", \"color\"],\n",
    "        ),\n",
    "        (\n",
    "            \"preprocessor_doors\",\n",
    "            Pipeline(\n",
    "                [\n",
    "                    (\n",
    "                        \"imputer\",\n",
    "                        SimpleImputer(\n",
    "                            strategy=\"constant\", fill_value=X_train[\"doors\"].mode()[0]\n",
    "                        ),\n",
    "                    ),\n",
    "                    (\"encoder\", OneHotEncoder(handle_unknown=\"ignore\")),\n",
    "                ],\n",
    "            ),\n",
    "            [\"doors\"],\n",
    "        ),\n",
    "        (\n",
    "            \"preprocessor_odometer\",\n",
    "            Pipeline(\n",
    "                [\n",
    "                    (\n",
    "                        \"imputer\",\n",
    "                        SimpleImputer(\n",
    "                            strategy=\"constant\", fill_value=X_train[\"odometer\"].mean()\n",
    "                        ),\n",
    "                    ),\n",
    "                ],\n",
    "            ),\n",
    "            [\"odometer\"],\n",
    "        ),\n",
    "    ],\n",
    "    remainder=\"passthrough\",\n",
    ")\n",
    "\n",
    "estimator = RandomForestRegressor()"
   ]
  },
  {
   "cell_type": "code",
   "execution_count": 26,
   "metadata": {},
   "outputs": [
    {
     "data": {
      "text/plain": [
       "0.2811534538050622"
      ]
     },
     "execution_count": 26,
     "metadata": {},
     "output_type": "execute_result"
    }
   ],
   "source": [
    "model = GridSearchCV(\n",
    "    Pipeline(\n",
    "        [\n",
    "            (\"preprocessor\", preprocessor),\n",
    "            (\"estimator\", estimator),\n",
    "        ],\n",
    "    ),\n",
    "    {\n",
    "        \"estimator__n_estimators\": [100, 1000],\n",
    "        \"estimator__min_samples_split\": [2, 4],\n",
    "        \"estimator__max_depth\": [None, 5],\n",
    "        \"estimator__max_features\": [1, 0.5],\n",
    "    },\n",
    "    cv=5,\n",
    ")\n",
    "\n",
    "model.fit(X_train, y_train)\n",
    "\n",
    "model.score(X_test, y_test)"
   ]
  }
 ],
 "metadata": {
  "kernelspec": {
   "display_name": "env",
   "language": "python",
   "name": "python3"
  },
  "language_info": {
   "codemirror_mode": {
    "name": "ipython",
    "version": 3
   },
   "file_extension": ".py",
   "mimetype": "text/x-python",
   "name": "python",
   "nbconvert_exporter": "python",
   "pygments_lexer": "ipython3",
   "version": "3.11.3"
  },
  "orig_nbformat": 4
 },
 "nbformat": 4,
 "nbformat_minor": 2
}
