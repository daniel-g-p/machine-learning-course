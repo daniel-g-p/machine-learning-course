{
 "cells": [
  {
   "cell_type": "code",
   "execution_count": 41,
   "metadata": {},
   "outputs": [],
   "source": [
    "import numpy as np\n",
    "import pandas as pd\n",
    "import matplotlib.pyplot as plt\n",
    "\n",
    "from sklearn.compose import ColumnTransformer\n",
    "from sklearn.impute import SimpleImputer\n",
    "from sklearn.model_selection import train_test_split\n",
    "from sklearn.preprocessing import OneHotEncoder"
   ]
  },
  {
   "cell_type": "code",
   "execution_count": 42,
   "metadata": {},
   "outputs": [],
   "source": [
    "car_sales = pd.read_csv(\"./data/car-sales.csv\").dropna(subset=[\"Price\"])\n",
    "\n",
    "x = car_sales.drop(\"Price\", axis=1)\n",
    "y = car_sales[\"Price\"]"
   ]
  },
  {
   "cell_type": "code",
   "execution_count": 43,
   "metadata": {},
   "outputs": [],
   "source": [
    "x_train, x_test, y_train, y_test = train_test_split(x, y, test_size=0.2)"
   ]
  },
  {
   "cell_type": "code",
   "execution_count": 44,
   "metadata": {},
   "outputs": [],
   "source": [
    "imputer = ColumnTransformer(\n",
    "    [\n",
    "        (\n",
    "            \"imputer_const\",\n",
    "            SimpleImputer(strategy=\"constant\", fill_value=\"N/A\"),\n",
    "            [\"Make\", \"Colour\"],\n",
    "        ),\n",
    "        (\n",
    "            \"imputer_mode\",\n",
    "            SimpleImputer(strategy=\"most_frequent\"),\n",
    "            [\"Doors\"],\n",
    "        ),\n",
    "        (\n",
    "            \"imputer_mean\",\n",
    "            SimpleImputer(strategy=\"mean\"),\n",
    "            [\"Odometer (KM)\"],\n",
    "        ),\n",
    "    ],\n",
    "    remainder=\"passthrough\",\n",
    ")\n",
    "\n",
    "encoder = ColumnTransformer(\n",
    "    [\n",
    "        (\n",
    "            \"encoder\",\n",
    "            OneHotEncoder(handle_unknown=\"ignore\", sparse_output=False),\n",
    "            [\"make\", \"color\", \"doors\"],\n",
    "        ),\n",
    "    ],\n",
    "    remainder=\"passthrough\",\n",
    ")\n",
    "\n",
    "\n",
    "def preprocess_x(x):\n",
    "    x_imputed = pd.DataFrame(\n",
    "        imputer.fit_transform(x),\n",
    "        columns=[\"make\", \"color\", \"doors\", \"odometer\"],\n",
    "    )\n",
    "\n",
    "    x_encoded = pd.DataFrame(encoder.fit_transform(x_imputed))\n",
    "\n",
    "    return x_encoded\n",
    "\n",
    "\n",
    "x_train = preprocess_x(x_train)\n",
    "x_test = preprocess_x(x_test)"
   ]
  },
  {
   "cell_type": "code",
   "execution_count": 45,
   "metadata": {},
   "outputs": [
    {
     "data": {
      "text/plain": [
       "0.2986212058672991"
      ]
     },
     "execution_count": 45,
     "metadata": {},
     "output_type": "execute_result"
    }
   ],
   "source": [
    "from sklearn.ensemble import RandomForestRegressor\n",
    "\n",
    "\n",
    "model = RandomForestRegressor()\n",
    "model.fit(x_train, y_train)\n",
    "model.score(x_test, y_test)"
   ]
  }
 ],
 "metadata": {
  "kernelspec": {
   "display_name": "env",
   "language": "python",
   "name": "python3"
  },
  "language_info": {
   "codemirror_mode": {
    "name": "ipython",
    "version": 3
   },
   "file_extension": ".py",
   "mimetype": "text/x-python",
   "name": "python",
   "nbconvert_exporter": "python",
   "pygments_lexer": "ipython3",
   "version": "3.11.3"
  },
  "orig_nbformat": 4
 },
 "nbformat": 4,
 "nbformat_minor": 2
}
